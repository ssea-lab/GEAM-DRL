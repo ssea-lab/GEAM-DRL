{
 "cells": [
  {
   "cell_type": "code",
   "execution_count": 1,
   "id": "initial_id",
   "metadata": {
    "collapsed": true,
    "ExecuteTime": {
     "end_time": "2024-03-01T03:52:00.725691Z",
     "start_time": "2024-03-01T03:51:57.566436Z"
    }
   },
   "outputs": [
    {
     "name": "stdout",
     "output_type": "stream",
     "text": [
      "读取服务器数据以及用户位置和mask数据成功\n",
      "正在加载 test 数据集\n"
     ]
    }
   ],
   "source": [
    "import yaml\n",
    "from data.eua_dataset import get_dataset\n",
    "from util.torch_utils import seed_torch\n",
    "\n",
    "with open('../config.yaml', 'r') as f:\n",
    "    config = yaml.safe_load(f)\n",
    "dir_name = config['train']['dir_name']\n",
    "total_sec = config['data']['total_sec']\n",
    "user_num_per_sec = 10\n",
    "user_stay_miu = 50\n",
    "user_stay_sigma = 5\n",
    "max_cov = 1.5\n",
    "miu = 35\n",
    "sigma = 10\n",
    "data_size = {\n",
    "    'test': 1000\n",
    "}\n",
    "\n",
    "seed_torch(42)\n",
    "data_set = get_dataset(0.5, 1, miu, sigma, total_sec, user_num_per_sec, user_stay_miu, user_stay_sigma, data_size, max_cov, 'cpu', dir_name)"
   ]
  },
  {
   "cell_type": "code",
   "outputs": [],
   "source": [
    "servers = data_set['test'].servers_tensor"
   ],
   "metadata": {
    "collapsed": false,
    "ExecuteTime": {
     "end_time": "2024-03-01T03:52:00.730203Z",
     "start_time": "2024-03-01T03:52:00.726775Z"
    }
   },
   "id": "cee42c82779ac91d",
   "execution_count": 2
  },
  {
   "cell_type": "code",
   "outputs": [
    {
     "name": "stdout",
     "output_type": "stream",
     "text": [
      "torch.Size([65, 6])\n"
     ]
    }
   ],
   "source": [
    "print(servers.shape)"
   ],
   "metadata": {
    "collapsed": false,
    "ExecuteTime": {
     "end_time": "2024-03-01T03:52:00.735348Z",
     "start_time": "2024-03-01T03:52:00.731208Z"
    }
   },
   "id": "72511bd3a4c28f08",
   "execution_count": 3
  },
  {
   "cell_type": "code",
   "outputs": [],
   "source": [
    "import torch\n",
    "import torch.nn as nn\n",
    "from dgl.nn.pytorch import GraphConv\n",
    "\n",
    "class GNN(nn.Module):\n",
    "    def __init__(self, in_dim, hidden_dim, out_dim):\n",
    "        super(GNN, self).__init__()\n",
    "        self.conv1 = GraphConv(in_dim, hidden_dim)\n",
    "        self.conv2 = GraphConv(hidden_dim, out_dim)\n",
    "\n",
    "    def forward(self, g, features, edge_weight=None):\n",
    "        # 第一层图卷积\n",
    "        x = self.conv1(g, features, edge_weight=edge_weight)\n",
    "        x = torch.relu(x)\n",
    "        # 第二层图卷积\n",
    "        x = self.conv2(g, x, edge_weight=edge_weight)\n",
    "        return x"
   ],
   "metadata": {
    "collapsed": false,
    "ExecuteTime": {
     "end_time": "2024-03-01T03:52:00.740277Z",
     "start_time": "2024-03-01T03:52:00.736353Z"
    }
   },
   "id": "1cd6ea9f1cd1be73",
   "execution_count": 4
  },
  {
   "cell_type": "code",
   "outputs": [],
   "source": [
    "import dgl\n",
    "\n",
    "\n",
    "def create_graph_from_server_list(server_list, device):\n",
    "    # 服务器节点数量\n",
    "    num_servers = len(server_list)\n",
    "\n",
    "    # 创建服务器图，有两个特征，分别是position，即server_list中的前两个维度，和capacity，即后4个维度\n",
    "    g = dgl.graph(([], []), num_nodes=num_servers, device=device)\n",
    "    g.ndata['position'] = server_list[:, :2]\n",
    "    g.ndata['capacity'] = server_list[:, 2:]\n",
    "    \n",
    "    # 添加边\n",
    "    # 使用矩阵计算服务器之间的距离\n",
    "    positions_servers = g.ndata['position']\n",
    "    server_positions_expand = positions_servers.unsqueeze(0)\n",
    "    server_distances_matrix = torch.cdist(server_positions_expand, server_positions_expand, p=2)\n",
    "\n",
    "    # 添加服务器之间的边\n",
    "    src_servers, dst_servers = torch.meshgrid(torch.arange(num_servers, device=device),\n",
    "                                              torch.arange(num_servers, device=device), indexing='ij')\n",
    "    g.add_edges(src_servers.flatten(), dst_servers.flatten())\n",
    "\n",
    "    # 赋予服务器之间的边特征，即距离\n",
    "    g.edata['distance'] = server_distances_matrix.flatten()\n",
    "\n",
    "    # 删除自己指向自己的边，防止距离为0，输入的参数是eid\n",
    "    # 所以要先计算自己的eid，计算方法是对角线元素的下标\n",
    "    e_ids = torch.arange(num_servers, device=device) * num_servers + torch.arange(num_servers, device=device)\n",
    "    g.remove_edges(e_ids)\n",
    "\n",
    "    # 继续计算所有距离特征（包括服务器之间的和服务器到用户的）的倒数（+1是为了避免除0）作为权重\n",
    "    g.edata['weight'] = 1 / (g.edata['distance'] + 1).float()\n",
    "\n",
    "    return g"
   ],
   "metadata": {
    "collapsed": false,
    "ExecuteTime": {
     "end_time": "2024-03-01T03:52:00.748026Z",
     "start_time": "2024-03-01T03:52:00.741899Z"
    }
   },
   "id": "44ca3a816e7ceb4b",
   "execution_count": 5
  },
  {
   "cell_type": "code",
   "outputs": [],
   "source": [
    "graph = create_graph_from_server_list(servers, 'cpu')"
   ],
   "metadata": {
    "collapsed": false,
    "ExecuteTime": {
     "end_time": "2024-03-01T03:52:00.770444Z",
     "start_time": "2024-03-01T03:52:00.748534Z"
    }
   },
   "id": "94f3a5972275f257",
   "execution_count": 6
  },
  {
   "cell_type": "code",
   "outputs": [
    {
     "name": "stdout",
     "output_type": "stream",
     "text": [
      "Graph(num_nodes=65, num_edges=4160,\n",
      "      ndata_schemes={'position': Scheme(shape=(2,), dtype=torch.float32), 'capacity': Scheme(shape=(4,), dtype=torch.float32)}\n",
      "      edata_schemes={'distance': Scheme(shape=(), dtype=torch.float32), 'weight': Scheme(shape=(), dtype=torch.float32)})\n"
     ]
    }
   ],
   "source": [
    "print(graph)"
   ],
   "metadata": {
    "collapsed": false,
    "ExecuteTime": {
     "end_time": "2024-03-01T03:52:00.774657Z",
     "start_time": "2024-03-01T03:52:00.771489Z"
    }
   },
   "id": "99023bcb4d441580",
   "execution_count": 7
  },
  {
   "cell_type": "code",
   "outputs": [],
   "source": [
    "# 创建模型\n",
    "in_dim = 2 + 4\n",
    "hidden_dim = 16\n",
    "out_dim = 1\n",
    "model = GNN(in_dim, hidden_dim, out_dim)"
   ],
   "metadata": {
    "collapsed": false,
    "ExecuteTime": {
     "end_time": "2024-03-01T03:52:00.781054Z",
     "start_time": "2024-03-01T03:52:00.774657Z"
    }
   },
   "id": "cad9d46a686ad492",
   "execution_count": 8
  },
  {
   "cell_type": "code",
   "outputs": [
    {
     "name": "stdout",
     "output_type": "stream",
     "text": [
      "tensor([[0.2606],\n",
      "        [0.4382],\n",
      "        [0.3108],\n",
      "        [0.3979],\n",
      "        [0.3350],\n",
      "        [0.4635],\n",
      "        [0.4428],\n",
      "        [0.3004],\n",
      "        [0.3939],\n",
      "        [0.4195],\n",
      "        [0.4342],\n",
      "        [0.4666],\n",
      "        [0.4725],\n",
      "        [0.3940],\n",
      "        [0.4354],\n",
      "        [0.2983],\n",
      "        [0.5064],\n",
      "        [0.4040],\n",
      "        [0.4553],\n",
      "        [0.3748],\n",
      "        [0.4368],\n",
      "        [0.2634],\n",
      "        [0.3463],\n",
      "        [0.3863],\n",
      "        [0.4006],\n",
      "        [0.4936],\n",
      "        [0.4671],\n",
      "        [0.3674],\n",
      "        [0.3267],\n",
      "        [0.3342],\n",
      "        [0.3453],\n",
      "        [0.4842],\n",
      "        [0.4436],\n",
      "        [0.3962],\n",
      "        [0.4879],\n",
      "        [0.3849],\n",
      "        [0.3105],\n",
      "        [0.4052],\n",
      "        [0.3615],\n",
      "        [0.3768],\n",
      "        [0.4930],\n",
      "        [0.5039],\n",
      "        [0.2759],\n",
      "        [0.5041],\n",
      "        [0.2440],\n",
      "        [0.2986],\n",
      "        [0.4805],\n",
      "        [0.4231],\n",
      "        [0.4888],\n",
      "        [0.4670],\n",
      "        [0.4965],\n",
      "        [0.3554],\n",
      "        [0.4879],\n",
      "        [0.3512],\n",
      "        [0.3968],\n",
      "        [0.4993],\n",
      "        [0.4861],\n",
      "        [0.4060],\n",
      "        [0.3495],\n",
      "        [0.2784],\n",
      "        [0.2987],\n",
      "        [0.2864],\n",
      "        [0.4621],\n",
      "        [0.4806],\n",
      "        [0.2729]], grad_fn=<AddBackward0>)\n"
     ]
    }
   ],
   "source": [
    "# 编码\n",
    "features = torch.cat([graph.ndata['position'], graph.ndata['capacity']], dim=1)\n",
    "\n",
    "# 前向传播\n",
    "outputs = model(graph, features, edge_weight=graph.edata['weight'])\n",
    "print(outputs)"
   ],
   "metadata": {
    "collapsed": false,
    "ExecuteTime": {
     "end_time": "2024-03-01T03:52:00.795666Z",
     "start_time": "2024-03-01T03:52:00.781054Z"
    }
   },
   "id": "6b7ea396dea1810b",
   "execution_count": 9
  },
  {
   "cell_type": "code",
   "outputs": [
    {
     "name": "stdout",
     "output_type": "stream",
     "text": [
      "torch.Size([65, 2])\n"
     ]
    }
   ],
   "source": [
    "print(graph.ndata['position'].shape)"
   ],
   "metadata": {
    "collapsed": false,
    "ExecuteTime": {
     "end_time": "2024-03-01T03:52:00.799799Z",
     "start_time": "2024-03-01T03:52:00.796672Z"
    }
   },
   "id": "9b44e38ac4351da3",
   "execution_count": 10
  },
  {
   "cell_type": "code",
   "outputs": [
    {
     "name": "stdout",
     "output_type": "stream",
     "text": [
      "torch.Size([65, 10, 2])\n",
      "torch.Size([65, 10, 4])\n"
     ]
    }
   ],
   "source": [
    "graph.ndata['position'] = graph.ndata['position'].unsqueeze(1).repeat(1, 10, 1)\n",
    "print(graph.ndata['position'].shape)\n",
    "graph.ndata['capacity'] = graph.ndata['capacity'].unsqueeze(1).repeat(1, 10, 1)\n",
    "print(graph.ndata['capacity'].shape)"
   ],
   "metadata": {
    "collapsed": false,
    "ExecuteTime": {
     "end_time": "2024-03-01T03:52:00.805439Z",
     "start_time": "2024-03-01T03:52:00.800806Z"
    }
   },
   "id": "b7d5b8f8c0022d5",
   "execution_count": 11
  },
  {
   "cell_type": "code",
   "outputs": [
    {
     "name": "stdout",
     "output_type": "stream",
     "text": [
      "torch.Size([65, 10, 6])\n"
     ]
    }
   ],
   "source": [
    "features2 = torch.cat([graph.ndata['position'], graph.ndata['capacity']], dim=2)\n",
    "print(features2.shape)"
   ],
   "metadata": {
    "collapsed": false,
    "ExecuteTime": {
     "end_time": "2024-03-01T03:52:00.810015Z",
     "start_time": "2024-03-01T03:52:00.806446Z"
    }
   },
   "id": "cd68781178b45f9b",
   "execution_count": 12
  },
  {
   "cell_type": "code",
   "outputs": [],
   "source": [
    "outputs2 = model(graph, features2, edge_weight=graph.edata['weight'])"
   ],
   "metadata": {
    "collapsed": false,
    "ExecuteTime": {
     "end_time": "2024-03-01T03:52:00.818168Z",
     "start_time": "2024-03-01T03:52:00.811021Z"
    }
   },
   "id": "a7000a2dcb62dab4",
   "execution_count": 13
  },
  {
   "cell_type": "code",
   "outputs": [
    {
     "name": "stdout",
     "output_type": "stream",
     "text": [
      "tensor([[[0.2606],\n",
      "         [0.2606],\n",
      "         [0.2606],\n",
      "         [0.2606],\n",
      "         [0.2606],\n",
      "         [0.2606],\n",
      "         [0.2606],\n",
      "         [0.2606],\n",
      "         [0.2606],\n",
      "         [0.2606]],\n",
      "\n",
      "        [[0.4382],\n",
      "         [0.4382],\n",
      "         [0.4382],\n",
      "         [0.4382],\n",
      "         [0.4382],\n",
      "         [0.4382],\n",
      "         [0.4382],\n",
      "         [0.4382],\n",
      "         [0.4382],\n",
      "         [0.4382]],\n",
      "\n",
      "        [[0.3108],\n",
      "         [0.3108],\n",
      "         [0.3108],\n",
      "         [0.3108],\n",
      "         [0.3108],\n",
      "         [0.3108],\n",
      "         [0.3108],\n",
      "         [0.3108],\n",
      "         [0.3108],\n",
      "         [0.3108]],\n",
      "\n",
      "        [[0.3979],\n",
      "         [0.3979],\n",
      "         [0.3979],\n",
      "         [0.3979],\n",
      "         [0.3979],\n",
      "         [0.3979],\n",
      "         [0.3979],\n",
      "         [0.3979],\n",
      "         [0.3979],\n",
      "         [0.3979]],\n",
      "\n",
      "        [[0.3350],\n",
      "         [0.3350],\n",
      "         [0.3350],\n",
      "         [0.3350],\n",
      "         [0.3350],\n",
      "         [0.3350],\n",
      "         [0.3350],\n",
      "         [0.3350],\n",
      "         [0.3350],\n",
      "         [0.3350]],\n",
      "\n",
      "        [[0.4635],\n",
      "         [0.4635],\n",
      "         [0.4635],\n",
      "         [0.4635],\n",
      "         [0.4635],\n",
      "         [0.4635],\n",
      "         [0.4635],\n",
      "         [0.4635],\n",
      "         [0.4635],\n",
      "         [0.4635]],\n",
      "\n",
      "        [[0.4428],\n",
      "         [0.4428],\n",
      "         [0.4428],\n",
      "         [0.4428],\n",
      "         [0.4428],\n",
      "         [0.4428],\n",
      "         [0.4428],\n",
      "         [0.4428],\n",
      "         [0.4428],\n",
      "         [0.4428]],\n",
      "\n",
      "        [[0.3004],\n",
      "         [0.3004],\n",
      "         [0.3004],\n",
      "         [0.3004],\n",
      "         [0.3004],\n",
      "         [0.3004],\n",
      "         [0.3004],\n",
      "         [0.3004],\n",
      "         [0.3004],\n",
      "         [0.3004]],\n",
      "\n",
      "        [[0.3939],\n",
      "         [0.3939],\n",
      "         [0.3939],\n",
      "         [0.3939],\n",
      "         [0.3939],\n",
      "         [0.3939],\n",
      "         [0.3939],\n",
      "         [0.3939],\n",
      "         [0.3939],\n",
      "         [0.3939]],\n",
      "\n",
      "        [[0.4195],\n",
      "         [0.4195],\n",
      "         [0.4195],\n",
      "         [0.4195],\n",
      "         [0.4195],\n",
      "         [0.4195],\n",
      "         [0.4195],\n",
      "         [0.4195],\n",
      "         [0.4195],\n",
      "         [0.4195]],\n",
      "\n",
      "        [[0.4342],\n",
      "         [0.4342],\n",
      "         [0.4342],\n",
      "         [0.4342],\n",
      "         [0.4342],\n",
      "         [0.4342],\n",
      "         [0.4342],\n",
      "         [0.4342],\n",
      "         [0.4342],\n",
      "         [0.4342]],\n",
      "\n",
      "        [[0.4666],\n",
      "         [0.4666],\n",
      "         [0.4666],\n",
      "         [0.4666],\n",
      "         [0.4666],\n",
      "         [0.4666],\n",
      "         [0.4666],\n",
      "         [0.4666],\n",
      "         [0.4666],\n",
      "         [0.4666]],\n",
      "\n",
      "        [[0.4725],\n",
      "         [0.4725],\n",
      "         [0.4725],\n",
      "         [0.4725],\n",
      "         [0.4725],\n",
      "         [0.4725],\n",
      "         [0.4725],\n",
      "         [0.4725],\n",
      "         [0.4725],\n",
      "         [0.4725]],\n",
      "\n",
      "        [[0.3940],\n",
      "         [0.3940],\n",
      "         [0.3940],\n",
      "         [0.3940],\n",
      "         [0.3940],\n",
      "         [0.3940],\n",
      "         [0.3940],\n",
      "         [0.3940],\n",
      "         [0.3940],\n",
      "         [0.3940]],\n",
      "\n",
      "        [[0.4354],\n",
      "         [0.4354],\n",
      "         [0.4354],\n",
      "         [0.4354],\n",
      "         [0.4354],\n",
      "         [0.4354],\n",
      "         [0.4354],\n",
      "         [0.4354],\n",
      "         [0.4354],\n",
      "         [0.4354]],\n",
      "\n",
      "        [[0.2983],\n",
      "         [0.2983],\n",
      "         [0.2983],\n",
      "         [0.2983],\n",
      "         [0.2983],\n",
      "         [0.2983],\n",
      "         [0.2983],\n",
      "         [0.2983],\n",
      "         [0.2983],\n",
      "         [0.2983]],\n",
      "\n",
      "        [[0.5064],\n",
      "         [0.5064],\n",
      "         [0.5064],\n",
      "         [0.5064],\n",
      "         [0.5064],\n",
      "         [0.5064],\n",
      "         [0.5064],\n",
      "         [0.5064],\n",
      "         [0.5064],\n",
      "         [0.5064]],\n",
      "\n",
      "        [[0.4040],\n",
      "         [0.4040],\n",
      "         [0.4040],\n",
      "         [0.4040],\n",
      "         [0.4040],\n",
      "         [0.4040],\n",
      "         [0.4040],\n",
      "         [0.4040],\n",
      "         [0.4040],\n",
      "         [0.4040]],\n",
      "\n",
      "        [[0.4553],\n",
      "         [0.4553],\n",
      "         [0.4553],\n",
      "         [0.4553],\n",
      "         [0.4553],\n",
      "         [0.4553],\n",
      "         [0.4553],\n",
      "         [0.4553],\n",
      "         [0.4553],\n",
      "         [0.4553]],\n",
      "\n",
      "        [[0.3748],\n",
      "         [0.3748],\n",
      "         [0.3748],\n",
      "         [0.3748],\n",
      "         [0.3748],\n",
      "         [0.3748],\n",
      "         [0.3748],\n",
      "         [0.3748],\n",
      "         [0.3748],\n",
      "         [0.3748]],\n",
      "\n",
      "        [[0.4368],\n",
      "         [0.4368],\n",
      "         [0.4368],\n",
      "         [0.4368],\n",
      "         [0.4368],\n",
      "         [0.4368],\n",
      "         [0.4368],\n",
      "         [0.4368],\n",
      "         [0.4368],\n",
      "         [0.4368]],\n",
      "\n",
      "        [[0.2634],\n",
      "         [0.2634],\n",
      "         [0.2634],\n",
      "         [0.2634],\n",
      "         [0.2634],\n",
      "         [0.2634],\n",
      "         [0.2634],\n",
      "         [0.2634],\n",
      "         [0.2634],\n",
      "         [0.2634]],\n",
      "\n",
      "        [[0.3463],\n",
      "         [0.3463],\n",
      "         [0.3463],\n",
      "         [0.3463],\n",
      "         [0.3463],\n",
      "         [0.3463],\n",
      "         [0.3463],\n",
      "         [0.3463],\n",
      "         [0.3463],\n",
      "         [0.3463]],\n",
      "\n",
      "        [[0.3863],\n",
      "         [0.3863],\n",
      "         [0.3863],\n",
      "         [0.3863],\n",
      "         [0.3863],\n",
      "         [0.3863],\n",
      "         [0.3863],\n",
      "         [0.3863],\n",
      "         [0.3863],\n",
      "         [0.3863]],\n",
      "\n",
      "        [[0.4006],\n",
      "         [0.4006],\n",
      "         [0.4006],\n",
      "         [0.4006],\n",
      "         [0.4006],\n",
      "         [0.4006],\n",
      "         [0.4006],\n",
      "         [0.4006],\n",
      "         [0.4006],\n",
      "         [0.4006]],\n",
      "\n",
      "        [[0.4936],\n",
      "         [0.4936],\n",
      "         [0.4936],\n",
      "         [0.4936],\n",
      "         [0.4936],\n",
      "         [0.4936],\n",
      "         [0.4936],\n",
      "         [0.4936],\n",
      "         [0.4936],\n",
      "         [0.4936]],\n",
      "\n",
      "        [[0.4671],\n",
      "         [0.4671],\n",
      "         [0.4671],\n",
      "         [0.4671],\n",
      "         [0.4671],\n",
      "         [0.4671],\n",
      "         [0.4671],\n",
      "         [0.4671],\n",
      "         [0.4671],\n",
      "         [0.4671]],\n",
      "\n",
      "        [[0.3674],\n",
      "         [0.3674],\n",
      "         [0.3674],\n",
      "         [0.3674],\n",
      "         [0.3674],\n",
      "         [0.3674],\n",
      "         [0.3674],\n",
      "         [0.3674],\n",
      "         [0.3674],\n",
      "         [0.3674]],\n",
      "\n",
      "        [[0.3267],\n",
      "         [0.3267],\n",
      "         [0.3267],\n",
      "         [0.3267],\n",
      "         [0.3267],\n",
      "         [0.3267],\n",
      "         [0.3267],\n",
      "         [0.3267],\n",
      "         [0.3267],\n",
      "         [0.3267]],\n",
      "\n",
      "        [[0.3342],\n",
      "         [0.3342],\n",
      "         [0.3342],\n",
      "         [0.3342],\n",
      "         [0.3342],\n",
      "         [0.3342],\n",
      "         [0.3342],\n",
      "         [0.3342],\n",
      "         [0.3342],\n",
      "         [0.3342]],\n",
      "\n",
      "        [[0.3453],\n",
      "         [0.3453],\n",
      "         [0.3453],\n",
      "         [0.3453],\n",
      "         [0.3453],\n",
      "         [0.3453],\n",
      "         [0.3453],\n",
      "         [0.3453],\n",
      "         [0.3453],\n",
      "         [0.3453]],\n",
      "\n",
      "        [[0.4842],\n",
      "         [0.4842],\n",
      "         [0.4842],\n",
      "         [0.4842],\n",
      "         [0.4842],\n",
      "         [0.4842],\n",
      "         [0.4842],\n",
      "         [0.4842],\n",
      "         [0.4842],\n",
      "         [0.4842]],\n",
      "\n",
      "        [[0.4436],\n",
      "         [0.4436],\n",
      "         [0.4436],\n",
      "         [0.4436],\n",
      "         [0.4436],\n",
      "         [0.4436],\n",
      "         [0.4436],\n",
      "         [0.4436],\n",
      "         [0.4436],\n",
      "         [0.4436]],\n",
      "\n",
      "        [[0.3962],\n",
      "         [0.3962],\n",
      "         [0.3962],\n",
      "         [0.3962],\n",
      "         [0.3962],\n",
      "         [0.3962],\n",
      "         [0.3962],\n",
      "         [0.3962],\n",
      "         [0.3962],\n",
      "         [0.3962]],\n",
      "\n",
      "        [[0.4879],\n",
      "         [0.4879],\n",
      "         [0.4879],\n",
      "         [0.4879],\n",
      "         [0.4879],\n",
      "         [0.4879],\n",
      "         [0.4879],\n",
      "         [0.4879],\n",
      "         [0.4879],\n",
      "         [0.4879]],\n",
      "\n",
      "        [[0.3849],\n",
      "         [0.3849],\n",
      "         [0.3849],\n",
      "         [0.3849],\n",
      "         [0.3849],\n",
      "         [0.3849],\n",
      "         [0.3849],\n",
      "         [0.3849],\n",
      "         [0.3849],\n",
      "         [0.3849]],\n",
      "\n",
      "        [[0.3105],\n",
      "         [0.3105],\n",
      "         [0.3105],\n",
      "         [0.3105],\n",
      "         [0.3105],\n",
      "         [0.3105],\n",
      "         [0.3105],\n",
      "         [0.3105],\n",
      "         [0.3105],\n",
      "         [0.3105]],\n",
      "\n",
      "        [[0.4052],\n",
      "         [0.4052],\n",
      "         [0.4052],\n",
      "         [0.4052],\n",
      "         [0.4052],\n",
      "         [0.4052],\n",
      "         [0.4052],\n",
      "         [0.4052],\n",
      "         [0.4052],\n",
      "         [0.4052]],\n",
      "\n",
      "        [[0.3615],\n",
      "         [0.3615],\n",
      "         [0.3615],\n",
      "         [0.3615],\n",
      "         [0.3615],\n",
      "         [0.3615],\n",
      "         [0.3615],\n",
      "         [0.3615],\n",
      "         [0.3615],\n",
      "         [0.3615]],\n",
      "\n",
      "        [[0.3768],\n",
      "         [0.3768],\n",
      "         [0.3768],\n",
      "         [0.3768],\n",
      "         [0.3768],\n",
      "         [0.3768],\n",
      "         [0.3768],\n",
      "         [0.3768],\n",
      "         [0.3768],\n",
      "         [0.3768]],\n",
      "\n",
      "        [[0.4930],\n",
      "         [0.4930],\n",
      "         [0.4930],\n",
      "         [0.4930],\n",
      "         [0.4930],\n",
      "         [0.4930],\n",
      "         [0.4930],\n",
      "         [0.4930],\n",
      "         [0.4930],\n",
      "         [0.4930]],\n",
      "\n",
      "        [[0.5039],\n",
      "         [0.5039],\n",
      "         [0.5039],\n",
      "         [0.5039],\n",
      "         [0.5039],\n",
      "         [0.5039],\n",
      "         [0.5039],\n",
      "         [0.5039],\n",
      "         [0.5039],\n",
      "         [0.5039]],\n",
      "\n",
      "        [[0.2759],\n",
      "         [0.2759],\n",
      "         [0.2759],\n",
      "         [0.2759],\n",
      "         [0.2759],\n",
      "         [0.2759],\n",
      "         [0.2759],\n",
      "         [0.2759],\n",
      "         [0.2759],\n",
      "         [0.2759]],\n",
      "\n",
      "        [[0.5041],\n",
      "         [0.5041],\n",
      "         [0.5041],\n",
      "         [0.5041],\n",
      "         [0.5041],\n",
      "         [0.5041],\n",
      "         [0.5041],\n",
      "         [0.5041],\n",
      "         [0.5041],\n",
      "         [0.5041]],\n",
      "\n",
      "        [[0.2440],\n",
      "         [0.2440],\n",
      "         [0.2440],\n",
      "         [0.2440],\n",
      "         [0.2440],\n",
      "         [0.2440],\n",
      "         [0.2440],\n",
      "         [0.2440],\n",
      "         [0.2440],\n",
      "         [0.2440]],\n",
      "\n",
      "        [[0.2986],\n",
      "         [0.2986],\n",
      "         [0.2986],\n",
      "         [0.2986],\n",
      "         [0.2986],\n",
      "         [0.2986],\n",
      "         [0.2986],\n",
      "         [0.2986],\n",
      "         [0.2986],\n",
      "         [0.2986]],\n",
      "\n",
      "        [[0.4805],\n",
      "         [0.4805],\n",
      "         [0.4805],\n",
      "         [0.4805],\n",
      "         [0.4805],\n",
      "         [0.4805],\n",
      "         [0.4805],\n",
      "         [0.4805],\n",
      "         [0.4805],\n",
      "         [0.4805]],\n",
      "\n",
      "        [[0.4231],\n",
      "         [0.4231],\n",
      "         [0.4231],\n",
      "         [0.4231],\n",
      "         [0.4231],\n",
      "         [0.4231],\n",
      "         [0.4231],\n",
      "         [0.4231],\n",
      "         [0.4231],\n",
      "         [0.4231]],\n",
      "\n",
      "        [[0.4888],\n",
      "         [0.4888],\n",
      "         [0.4888],\n",
      "         [0.4888],\n",
      "         [0.4888],\n",
      "         [0.4888],\n",
      "         [0.4888],\n",
      "         [0.4888],\n",
      "         [0.4888],\n",
      "         [0.4888]],\n",
      "\n",
      "        [[0.4670],\n",
      "         [0.4670],\n",
      "         [0.4670],\n",
      "         [0.4670],\n",
      "         [0.4670],\n",
      "         [0.4670],\n",
      "         [0.4670],\n",
      "         [0.4670],\n",
      "         [0.4670],\n",
      "         [0.4670]],\n",
      "\n",
      "        [[0.4965],\n",
      "         [0.4965],\n",
      "         [0.4965],\n",
      "         [0.4965],\n",
      "         [0.4965],\n",
      "         [0.4965],\n",
      "         [0.4965],\n",
      "         [0.4965],\n",
      "         [0.4965],\n",
      "         [0.4965]],\n",
      "\n",
      "        [[0.3554],\n",
      "         [0.3554],\n",
      "         [0.3554],\n",
      "         [0.3554],\n",
      "         [0.3554],\n",
      "         [0.3554],\n",
      "         [0.3554],\n",
      "         [0.3554],\n",
      "         [0.3554],\n",
      "         [0.3554]],\n",
      "\n",
      "        [[0.4879],\n",
      "         [0.4879],\n",
      "         [0.4879],\n",
      "         [0.4879],\n",
      "         [0.4879],\n",
      "         [0.4879],\n",
      "         [0.4879],\n",
      "         [0.4879],\n",
      "         [0.4879],\n",
      "         [0.4879]],\n",
      "\n",
      "        [[0.3512],\n",
      "         [0.3512],\n",
      "         [0.3512],\n",
      "         [0.3512],\n",
      "         [0.3512],\n",
      "         [0.3512],\n",
      "         [0.3512],\n",
      "         [0.3512],\n",
      "         [0.3512],\n",
      "         [0.3512]],\n",
      "\n",
      "        [[0.3968],\n",
      "         [0.3968],\n",
      "         [0.3968],\n",
      "         [0.3968],\n",
      "         [0.3968],\n",
      "         [0.3968],\n",
      "         [0.3968],\n",
      "         [0.3968],\n",
      "         [0.3968],\n",
      "         [0.3968]],\n",
      "\n",
      "        [[0.4993],\n",
      "         [0.4993],\n",
      "         [0.4993],\n",
      "         [0.4993],\n",
      "         [0.4993],\n",
      "         [0.4993],\n",
      "         [0.4993],\n",
      "         [0.4993],\n",
      "         [0.4993],\n",
      "         [0.4993]],\n",
      "\n",
      "        [[0.4861],\n",
      "         [0.4861],\n",
      "         [0.4861],\n",
      "         [0.4861],\n",
      "         [0.4861],\n",
      "         [0.4861],\n",
      "         [0.4861],\n",
      "         [0.4861],\n",
      "         [0.4861],\n",
      "         [0.4861]],\n",
      "\n",
      "        [[0.4060],\n",
      "         [0.4060],\n",
      "         [0.4060],\n",
      "         [0.4060],\n",
      "         [0.4060],\n",
      "         [0.4060],\n",
      "         [0.4060],\n",
      "         [0.4060],\n",
      "         [0.4060],\n",
      "         [0.4060]],\n",
      "\n",
      "        [[0.3495],\n",
      "         [0.3495],\n",
      "         [0.3495],\n",
      "         [0.3495],\n",
      "         [0.3495],\n",
      "         [0.3495],\n",
      "         [0.3495],\n",
      "         [0.3495],\n",
      "         [0.3495],\n",
      "         [0.3495]],\n",
      "\n",
      "        [[0.2784],\n",
      "         [0.2784],\n",
      "         [0.2784],\n",
      "         [0.2784],\n",
      "         [0.2784],\n",
      "         [0.2784],\n",
      "         [0.2784],\n",
      "         [0.2784],\n",
      "         [0.2784],\n",
      "         [0.2784]],\n",
      "\n",
      "        [[0.2987],\n",
      "         [0.2987],\n",
      "         [0.2987],\n",
      "         [0.2987],\n",
      "         [0.2987],\n",
      "         [0.2987],\n",
      "         [0.2987],\n",
      "         [0.2987],\n",
      "         [0.2987],\n",
      "         [0.2987]],\n",
      "\n",
      "        [[0.2864],\n",
      "         [0.2864],\n",
      "         [0.2864],\n",
      "         [0.2864],\n",
      "         [0.2864],\n",
      "         [0.2864],\n",
      "         [0.2864],\n",
      "         [0.2864],\n",
      "         [0.2864],\n",
      "         [0.2864]],\n",
      "\n",
      "        [[0.4621],\n",
      "         [0.4621],\n",
      "         [0.4621],\n",
      "         [0.4621],\n",
      "         [0.4621],\n",
      "         [0.4621],\n",
      "         [0.4621],\n",
      "         [0.4621],\n",
      "         [0.4621],\n",
      "         [0.4621]],\n",
      "\n",
      "        [[0.4806],\n",
      "         [0.4806],\n",
      "         [0.4806],\n",
      "         [0.4806],\n",
      "         [0.4806],\n",
      "         [0.4806],\n",
      "         [0.4806],\n",
      "         [0.4806],\n",
      "         [0.4806],\n",
      "         [0.4806]],\n",
      "\n",
      "        [[0.2729],\n",
      "         [0.2729],\n",
      "         [0.2729],\n",
      "         [0.2729],\n",
      "         [0.2729],\n",
      "         [0.2729],\n",
      "         [0.2729],\n",
      "         [0.2729],\n",
      "         [0.2729],\n",
      "         [0.2729]]], grad_fn=<AddBackward0>)\n"
     ]
    }
   ],
   "source": [
    "print(outputs2)"
   ],
   "metadata": {
    "collapsed": false,
    "ExecuteTime": {
     "end_time": "2024-03-01T03:52:00.836201Z",
     "start_time": "2024-03-01T03:52:00.821175Z"
    }
   },
   "id": "450de9cad9ed0f48",
   "execution_count": 14
  },
  {
   "cell_type": "code",
   "outputs": [
    {
     "data": {
      "text/plain": "tensor(True)"
     },
     "execution_count": 15,
     "metadata": {},
     "output_type": "execute_result"
    }
   ],
   "source": [
    "torch.all(outputs.unsqueeze(1).repeat(1, 10, 1) == outputs2)"
   ],
   "metadata": {
    "collapsed": false,
    "ExecuteTime": {
     "end_time": "2024-03-01T03:52:00.843847Z",
     "start_time": "2024-03-01T03:52:00.837207Z"
    }
   },
   "id": "8387ecc7c02a21c",
   "execution_count": 15
  },
  {
   "cell_type": "code",
   "outputs": [],
   "source": [
    "import numpy as np\n",
    "\n",
    "ten_server_capacity_list = np.random.normal(miu, sigma, size=(10, 65, 4))"
   ],
   "metadata": {
    "collapsed": false,
    "ExecuteTime": {
     "end_time": "2024-03-01T03:52:00.847887Z",
     "start_time": "2024-03-01T03:52:00.844853Z"
    }
   },
   "id": "72a395c607ccba15",
   "execution_count": 16
  },
  {
   "cell_type": "code",
   "outputs": [],
   "source": [
    "ten_server_capacity_list = torch.tensor(ten_server_capacity_list, dtype=torch.float32)"
   ],
   "metadata": {
    "collapsed": false,
    "ExecuteTime": {
     "end_time": "2024-03-01T03:52:00.852738Z",
     "start_time": "2024-03-01T03:52:00.848893Z"
    }
   },
   "id": "de5e7761a3eb1989",
   "execution_count": 17
  },
  {
   "cell_type": "code",
   "outputs": [],
   "source": [
    "# 创建服务器图，有两个特征，分别是position，即server_list中的前两个维度，和capacity，即后4个维度\n",
    "position = servers[:, :2]\n",
    "# 创建10个图\n",
    "graphs = []\n",
    "for i in range(10):\n",
    "    servers_i = torch.cat([position, ten_server_capacity_list[i]], dim=1)\n",
    "    g = create_graph_from_server_list(servers_i, 'cpu')\n",
    "    graphs.append(g)"
   ],
   "metadata": {
    "collapsed": false,
    "ExecuteTime": {
     "end_time": "2024-03-01T03:52:00.881660Z",
     "start_time": "2024-03-01T03:52:00.853743Z"
    }
   },
   "id": "d16f26f586ca9b9d",
   "execution_count": 18
  },
  {
   "cell_type": "code",
   "outputs": [],
   "source": [
    "# 对10个图进行前向传播，保存10个输出\n",
    "outputs10 = []\n",
    "for i in range(10):\n",
    "    features = torch.cat([graphs[i].ndata['position'], graphs[i].ndata['capacity']], dim=1)\n",
    "    outputs10.append(model(graphs[i], features, edge_weight=graphs[i].edata['weight']))"
   ],
   "metadata": {
    "collapsed": false,
    "ExecuteTime": {
     "end_time": "2024-03-01T03:52:00.917481Z",
     "start_time": "2024-03-01T03:52:00.882667Z"
    }
   },
   "id": "87790e89413587ec",
   "execution_count": 19
  },
  {
   "cell_type": "code",
   "outputs": [],
   "source": [
    "outputs10 = torch.stack(outputs10, dim=1)"
   ],
   "metadata": {
    "collapsed": false,
    "ExecuteTime": {
     "end_time": "2024-03-01T03:52:00.921424Z",
     "start_time": "2024-03-01T03:52:00.918489Z"
    }
   },
   "id": "30d7b00d5740e609",
   "execution_count": 20
  },
  {
   "cell_type": "code",
   "outputs": [
    {
     "name": "stdout",
     "output_type": "stream",
     "text": [
      "torch.Size([65, 10, 2])\n"
     ]
    }
   ],
   "source": [
    "# 再次测试，把10个图的特征拼接起来，然后进行前向传播\n",
    "position10 = servers[:, :2].unsqueeze(1).repeat(1, 10, 1)\n",
    "print(position10.shape)"
   ],
   "metadata": {
    "collapsed": false,
    "ExecuteTime": {
     "end_time": "2024-03-01T03:52:00.926961Z",
     "start_time": "2024-03-01T03:52:00.922432Z"
    }
   },
   "id": "c51e6a84f5b55251",
   "execution_count": 21
  },
  {
   "cell_type": "code",
   "outputs": [
    {
     "name": "stdout",
     "output_type": "stream",
     "text": [
      "torch.Size([10, 65, 4])\n"
     ]
    }
   ],
   "source": [
    "print(ten_server_capacity_list.shape)"
   ],
   "metadata": {
    "collapsed": false,
    "ExecuteTime": {
     "end_time": "2024-03-01T03:52:00.931598Z",
     "start_time": "2024-03-01T03:52:00.927969Z"
    }
   },
   "id": "ca5a3a881b531e65",
   "execution_count": 22
  },
  {
   "cell_type": "code",
   "outputs": [],
   "source": [
    "features10 = torch.cat([position10, ten_server_capacity_list.transpose(0, 1)], dim=2)"
   ],
   "metadata": {
    "collapsed": false,
    "ExecuteTime": {
     "end_time": "2024-03-01T03:52:00.938145Z",
     "start_time": "2024-03-01T03:52:00.932605Z"
    }
   },
   "id": "5a5a6f628ee71be1",
   "execution_count": 23
  },
  {
   "cell_type": "code",
   "outputs": [
    {
     "name": "stdout",
     "output_type": "stream",
     "text": [
      "torch.Size([65, 10, 6])\n"
     ]
    }
   ],
   "source": [
    "print(features10.shape)"
   ],
   "metadata": {
    "collapsed": false,
    "ExecuteTime": {
     "end_time": "2024-03-01T03:52:00.942649Z",
     "start_time": "2024-03-01T03:52:00.939151Z"
    }
   },
   "id": "cdb8ea14741c6c02",
   "execution_count": 24
  },
  {
   "cell_type": "code",
   "outputs": [],
   "source": [
    "outputs10_2 = model(graph, features10, edge_weight=graph.edata['weight'])"
   ],
   "metadata": {
    "collapsed": false,
    "ExecuteTime": {
     "end_time": "2024-03-01T03:52:00.952547Z",
     "start_time": "2024-03-01T03:52:00.943655Z"
    }
   },
   "id": "dda2c7e6d9bca471",
   "execution_count": 25
  },
  {
   "cell_type": "code",
   "outputs": [
    {
     "name": "stdout",
     "output_type": "stream",
     "text": [
      "tensor(True)\n"
     ]
    }
   ],
   "source": [
    "print(torch.all(outputs10 == outputs10_2))"
   ],
   "metadata": {
    "collapsed": false,
    "ExecuteTime": {
     "end_time": "2024-03-01T03:52:00.957167Z",
     "start_time": "2024-03-01T03:52:00.953554Z"
    }
   },
   "id": "6b8a91ff63618b3e",
   "execution_count": 26
  }
 ],
 "metadata": {
  "kernelspec": {
   "display_name": "Python 3",
   "language": "python",
   "name": "python3"
  },
  "language_info": {
   "codemirror_mode": {
    "name": "ipython",
    "version": 2
   },
   "file_extension": ".py",
   "mimetype": "text/x-python",
   "name": "python",
   "nbconvert_exporter": "python",
   "pygments_lexer": "ipython2",
   "version": "2.7.6"
  }
 },
 "nbformat": 4,
 "nbformat_minor": 5
}
