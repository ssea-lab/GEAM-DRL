{
 "cells": [
  {
   "cell_type": "code",
   "execution_count": null,
   "id": "initial_id",
   "metadata": {
    "ExecuteTime": {
     "end_time": "2024-02-26T06:56:39.649475100Z",
     "start_time": "2024-02-26T06:56:39.645142100Z"
    },
    "collapsed": true
   },
   "outputs": [
    {
     "name": "stdout",
     "output_type": "stream",
     "text": [
      "[ 9 22  9  9 12 11 12 13  8  5 12  5 12  7 12  5  9 12 12 14 11  9  8  4\n",
      " 12  9  8 11 10 16  9 16 10  8 12 13 13  6  9  8 13  8  9 13 12 10  8 10\n",
      " 11  9 14 10  8 17  3  9 12 16 14  6  8 14 12  7 13  6  9 12 12 10  8  7\n",
      "  9 15 11  8  2  9  7 11 11 14  8  8  4  9  8 15 10 11  6 12 10  8 12  9\n",
      "  6  8  9  8]\n",
      "1000\n"
     ]
    }
   ],
   "source": [
    "import numpy as np\n",
    "\n",
    "def generate_and_count_users(num_users, num_time_periods):\n",
    "    # Generate `num_users` random numbers in the range [0, num_time_periods-1],\n",
    "    # representing the time periods in which users are located\n",
    "    user_time_periods = np.random.randint(0, num_time_periods, num_users)\n",
    "\n",
    "    # Use `np.bincount` to count the number of users in each time period\n",
    "    time_period_users = np.bincount(user_time_periods, minlength=num_time_periods)\n",
    "\n",
    "    return time_period_users\n",
    "\n",
    "# Example: 1000 users, 100 time periods\n",
    "num_users = 1000\n",
    "num_time_periods = 100\n",
    "\n",
    "result = generate_and_count_users(num_users, num_time_periods)\n",
    "print(result)\n",
    "print(result.sum())  # Verify that the total count matches `num_users`\n"
   ]
  },
  {
   "cell_type": "code",
   "execution_count": 7,
   "id": "513b6b22e53c32",
   "metadata": {
    "ExecuteTime": {
     "end_time": "2024-02-26T06:56:27.685460Z",
     "start_time": "2024-02-26T06:56:27.679217900Z"
    },
    "collapsed": false
   },
   "outputs": [
    {
     "name": "stdout",
     "output_type": "stream",
     "text": [
      "1000\n"
     ]
    }
   ],
   "source": []
  },
  {
   "cell_type": "code",
   "execution_count": null,
   "id": "49e3ac05b39afcd6",
   "metadata": {
    "ExecuteTime": {
     "end_time": "2024-02-28T05:03:48.738595Z",
     "start_time": "2024-02-28T05:03:48.726094Z"
    },
    "collapsed": false
   },
   "outputs": [
    {
     "name": "stdout",
     "output_type": "stream",
     "text": [
      "tensor([[[0., 0.],\n",
      "         [1., 1.],\n",
      "         [2., 2.],\n",
      "         [3., 3.],\n",
      "         [4., 4.]],\n",
      "\n",
      "        [[0., 0.],\n",
      "         [1., 1.],\n",
      "         [2., 2.],\n",
      "         [3., 3.],\n",
      "         [4., 4.]]])\n",
      "tensor([[[0., 0.],\n",
      "         [1., 1.],\n",
      "         [2., 2.]],\n",
      "\n",
      "        [[0., 0.],\n",
      "         [1., 1.],\n",
      "         [2., 2.]]])\n",
      "tensor([[ 0,  1,  2,  0, -1],\n",
      "        [ 0,  1,  2,  0, -1]])\n",
      "tensor([[[0., 0.],\n",
      "         [1., 1.],\n",
      "         [2., 2.],\n",
      "         [0., 0.]],\n",
      "\n",
      "        [[0., 0.],\n",
      "         [1., 1.],\n",
      "         [2., 2.],\n",
      "         [0., 0.]]])\n",
      "masked users_coordinates tensor([[[0., 0.],\n",
      "         [1., 1.],\n",
      "         [2., 2.],\n",
      "         [3., 3.],\n",
      "         [inf, inf]],\n",
      "\n",
      "        [[0., 0.],\n",
      "         [1., 1.],\n",
      "         [2., 2.],\n",
      "         [3., 3.],\n",
      "         [inf, inf]]])\n",
      "tensor([[[0., 0.],\n",
      "         [1., 1.],\n",
      "         [2., 2.],\n",
      "         [0., 0.],\n",
      "         [0., 0.]],\n",
      "\n",
      "        [[0., 0.],\n",
      "         [1., 1.],\n",
      "         [2., 2.],\n",
      "         [0., 0.],\n",
      "         [0., 0.]]])\n",
      "torch.Size([2, 5, 2]) torch.Size([2, 5, 2])\n",
      "torch.Size([2, 5])\n",
      "tensor([[0.0000, 0.0000, 0.0000, 4.2426,    inf],\n",
      "        [0.0000, 0.0000, 0.0000, 4.2426,    inf]])\n",
      "tensor([[2.0000, 2.0000, 2.0000, 1.0364, 0.0000],\n",
      "        [2.0000, 2.0000, 2.0000, 1.0364, 0.0000]])\n"
     ]
    }
   ],
   "source": [
    "import torch\n",
    "\n",
    "# Example usage\n",
    "batch_size = 2\n",
    "num_users = 5\n",
    "num_servers = 3\n",
    "\n",
    "# Generate user coordinates with a structured pattern:\n",
    "# The 0th user is at (0,0), the 1st user at (1,1), and so on.\n",
    "# Shape: (batch_size, num_users, 2)\n",
    "users_coordinates = torch.arange(num_users).view(1, -1, 1).float().repeat(batch_size, 1, 2)\n",
    "print(users_coordinates)\n",
    "\n",
    "# Generate server coordinates with a similar structured pattern as users\n",
    "servers_coordinates = torch.arange(num_servers).view(1, -1, 1).float().repeat(batch_size, 1, 2)\n",
    "print(servers_coordinates)\n",
    "\n",
    "# The 0th user is assigned to the 0th server, the 1st user to the 1st server, and so on.\n",
    "# For the last two users: \n",
    "# - The 3rd user experiences a distance of sqrt(3^2 + 3^2) = 3 * sqrt(2)\n",
    "# - The 4th user is unassigned (represented by -1)\n",
    "assigned_server_indices = torch.tensor([[0, 1, 2, 0, -1], [0, 1, 2, 0, -1]])\n",
    "print(assigned_server_indices)\n",
    "\n",
    "# Add a virtual cloud server at index -1, located at (0,0), but it won't be used in computations\n",
    "servers_coordinates = torch.cat([servers_coordinates, torch.zeros(batch_size, 1, 2)], dim=1)\n",
    "print(servers_coordinates)\n",
    "\n",
    "# Mask out users assigned to index -1 so that they are excluded from computations\n",
    "mask = assigned_server_indices != -1\n",
    "users_coordinates = users_coordinates.masked_fill(~mask.view(batch_size, -1, 1).repeat(1, 1, 2), torch.inf)\n",
    "print(\"masked users_coordinates\", users_coordinates)\n",
    "\n",
    "# Convert negative indices (-1) to positive indices by mapping -1 to num_servers\n",
    "assigned_server_indices = torch.remainder(assigned_server_indices, num_servers + 1)\n",
    "\n",
    "# Retrieve the assigned server coordinates based on the indices\n",
    "assigned_server_coordinates = torch.gather(servers_coordinates, 1, assigned_server_indices.view(batch_size, -1, 1).repeat(1, 1, 2))\n",
    "print(assigned_server_coordinates)\n",
    "\n",
    "# Compute the Euclidean distance between users and their assigned servers\n",
    "print(users_coordinates.shape, assigned_server_coordinates.shape)\n",
    "distances = torch.norm(users_coordinates - assigned_server_coordinates, dim=2)\n",
    "print(distances.shape)\n",
    "print(distances)\n",
    "\n",
    "# Compute user experience scores, which are inversely proportional to the square of the distance.\n",
    "# - If the distance is 0, user experience = 1 + 1 = 2.\n",
    "# - If the distance is 1.5, user experience = 1 + 1 / ((1.5 + 1)^2) = 1 + 1/6.25 = 1.16.\n",
    "user_experiences = 1 + 1 / ((distances + 1)**2)\n",
    "\n",
    "# Set experience scores of masked users to 0\n",
    "user_experiences[~mask] = 0\n",
    "print(user_experiences)\n"
   ]
  },
  {
   "cell_type": "code",
   "execution_count": null,
   "id": "bab2441dd99988de",
   "metadata": {
    "collapsed": false
   },
   "outputs": [],
   "source": []
  }
 ],
 "metadata": {
  "kernelspec": {
   "display_name": "Python 3",
   "language": "python",
   "name": "python3"
  },
  "language_info": {
   "codemirror_mode": {
    "name": "ipython",
    "version": 2
   },
   "file_extension": ".py",
   "mimetype": "text/x-python",
   "name": "python",
   "nbconvert_exporter": "python",
   "pygments_lexer": "ipython2",
   "version": "2.7.6"
  }
 },
 "nbformat": 4,
 "nbformat_minor": 5
}
